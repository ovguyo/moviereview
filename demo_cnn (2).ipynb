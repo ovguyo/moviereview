{
 "cells": [
  {
   "cell_type": "code",
   "execution_count": 4,
   "metadata": {},
   "outputs": [
    {
     "name": "stdout",
     "output_type": "stream",
     "text": [
      "[[ 0.97412723]]\n",
      "1/1 [==============================] - 0s\n",
      "positive review\n"
     ]
    }
   ],
   "source": [
    "# -*- coding: utf-8 -*-\n",
    "\"\"\"\n",
    "Created on Thu Jan 18 21:40:46 2018\n",
    "\n",
    "@author: Övgü\n",
    "\"\"\"\n",
    "\n",
    "from keras.models import model_from_json\n",
    "import os\n",
    "\n",
    "#from keras.models import load_model \n",
    "#from keras.models import load_weights\n",
    "#model=load_model(\"cnn2modell.h5\")\n",
    "#model = load_weights(\"cnn2_weights.h5\", by_name=False)\n",
    "\n",
    "# load json and create model\n",
    "json_file = open('model_cnn.json', 'r')\n",
    "loaded_model_json = json_file.read()\n",
    "json_file.close()\n",
    "loaded_model = model_from_json(loaded_model_json)\n",
    "# load weights into new model\n",
    "loaded_model.load_weights(\"model_cnn.h5\")\n",
    "\n",
    "from keras.preprocessing import sequence\n",
    "from keras.datasets import imdb\n",
    "import numpy as np\n",
    "import re\n",
    "from keras.preprocessing import text\n",
    "from keras.preprocessing.text import Tokenizer\n",
    "from tkinter import *\n",
    "root = Tk()\n",
    "\n",
    "def evaluate_input():\n",
    "    word_to_id = imdb.get_word_index()\n",
    "    testString=textBox.get(\"1.0\",\"end-1c\")\n",
    "    tokenizer = Tokenizer(num_words=500)\n",
    "    tokenizer.fit_on_texts(testString)\n",
    "    words = text.text_to_word_sequence(testString)\n",
    "#    strip_special_chars = re.compile(\"[^A-Za-z0-9 ]+\")\n",
    "#    testString = testString.lower().replace(\"<br />\", \" \")\n",
    "#    testString=re.sub(strip_special_chars, \"\", testString.lower())\n",
    "#    words = testString.split() #split string into a list\n",
    "    new_x_test = [[word_to_id[word] if (word in word_to_id  and word_to_id[word]<=5000) else 0 for word in words]]\n",
    "#   #print(new_x_test)\n",
    "    new_x_test = sequence.pad_sequences(new_x_test, maxlen=500) # Should be same which you used for training data\n",
    "    vector = np.array([new_x_test.flatten()])\n",
    "    y_pred=loaded_model.predict(vector)\n",
    "    print(y_pred)\n",
    "    y_predt = loaded_model.predict_classes(vector)\n",
    "    #print(y_predt)\n",
    "    if y_predt==0:\n",
    "        print(\"negative review\")\n",
    "    else:\n",
    "        print(\"positive review\")\n",
    "\n",
    "label1 = Label(root, text=\"Enter the review you want to test!\")\n",
    "textBox=Text(root, height=20, width=50)\n",
    "textBox.pack()\n",
    "\n",
    "submit=Button(root, height=1, width=20, text=\"Submit to test your review!\", \n",
    "                    command=lambda: evaluate_input())\n",
    "submit.pack() \n",
    "\n",
    "root.mainloop()"
   ]
  },
  {
   "cell_type": "code",
   "execution_count": null,
   "metadata": {
    "collapsed": true
   },
   "outputs": [],
   "source": []
  },
  {
   "cell_type": "code",
   "execution_count": null,
   "metadata": {
    "collapsed": true
   },
   "outputs": [],
   "source": []
  }
 ],
 "metadata": {
  "kernelspec": {
   "display_name": "Python 3",
   "language": "python",
   "name": "python3"
  },
  "language_info": {
   "codemirror_mode": {
    "name": "ipython",
    "version": 3
   },
   "file_extension": ".py",
   "mimetype": "text/x-python",
   "name": "python",
   "nbconvert_exporter": "python",
   "pygments_lexer": "ipython3",
   "version": "3.6.1"
  }
 },
 "nbformat": 4,
 "nbformat_minor": 2
}
