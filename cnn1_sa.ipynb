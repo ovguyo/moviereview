{
 "cells": [
  {
   "cell_type": "code",
   "execution_count": 1,
   "metadata": {},
   "outputs": [
    {
     "name": "stderr",
     "output_type": "stream",
     "text": [
      "Using TensorFlow backend.\n"
     ]
    }
   ],
   "source": [
    "import numpy as np\n",
    "import seaborn as sn\n",
    "import pandas as pd\n",
    "from keras.datasets import imdb\n",
    "import matplotlib.pyplot as plt\n",
    "%matplotlib inline\n",
    "from keras.models import Sequential\n",
    "from keras.layers import Dense\n",
    "from keras.layers import Conv1D, Flatten, Dropout, MaxPooling1D\n",
    "from keras.layers import Embedding\n",
    "from keras.preprocessing import sequence\n",
    "np.random.seed(7)"
   ]
  },
  {
   "cell_type": "code",
   "execution_count": 2,
   "metadata": {
    "scrolled": true
   },
   "outputs": [
    {
     "name": "stdout",
     "output_type": "stream",
     "text": [
      "Epoch 1/3\n",
      "25000/25000 [==============================] - 101s - loss: 0.3829 - acc: 0.8176   \n",
      "Epoch 2/3\n",
      "25000/25000 [==============================] - 100s - loss: 0.2427 - acc: 0.9042   \n",
      "Epoch 3/3\n",
      "25000/25000 [==============================] - 107s - loss: 0.1590 - acc: 0.9428   \n"
     ]
    }
   ],
   "source": [
    "top_words = 5000\n",
    "(X_train, y_train), (X_test, y_test) = imdb.load_data(num_words=top_words)\n",
    "\n",
    "#Padding the sequences to the same length\n",
    "max_length = 500\n",
    "X_train = sequence.pad_sequences(X_train, maxlen = max_length)\n",
    "X_test = sequence.pad_sequences(X_test, maxlen = max_length)\n",
    "\n",
    "#Word Embedding\n",
    "embedding_vector_length=32\n",
    "model = Sequential()\n",
    "model.add(Embedding(top_words, embedding_vector_length, input_length=max_length))\n",
    "\n",
    "#CNN Model\n",
    "model.add(Conv1D(32, kernel_size= 3, padding= 'same', input_shape=(max_length, embedding_vector_length)))\n",
    "model.add(Conv1D(32, kernel_size= 3, padding= 'same'))\n",
    "model.add(Conv1D(32, kernel_size= 3, padding= 'same'))\n",
    "model.add(Conv1D(32, kernel_size= 3, padding= 'same'))\n",
    "model.add(Flatten())\n",
    "model.add(Dropout(0.2))\n",
    "model.add(Dense(64, activation='sigmoid'))\n",
    "model.add(Dropout(0.2))\n",
    "model.add(Dense(1, activation='sigmoid'))\n",
    "model.compile(loss='binary_crossentropy', optimizer='adam', metrics=['accuracy'])\n",
    "model.fit(X_train, y_train, epochs=3, batch_size=32)\n",
    "\n",
    "#Evaluation on the Test Set\n",
    "score, acc = model.evaluate(X_test, y_test, verbose=0)"
   ]
  },
  {
   "cell_type": "code",
   "execution_count": 3,
   "metadata": {},
   "outputs": [
    {
     "name": "stdout",
     "output_type": "stream",
     "text": [
      "Accuracy: 84.67%\n",
      "Test score: 39.92%\n",
      "24960/25000 [============================>.] - ETA: 0s0.84668\n",
      "             precision    recall  f1-score   support\n",
      "\n",
      "        pos       0.85      0.85      0.85     12500\n",
      "        neg       0.85      0.85      0.85     12500\n",
      "\n",
      "avg / total       0.85      0.85      0.85     25000\n",
      "\n",
      "[[10601  1899]\n",
      " [ 1934 10566]]\n"
     ]
    }
   ],
   "source": [
    "print(\"Accuracy: %.2f%%\" % (acc*100))\n",
    "print(\"Test score: %.2f%%\" % (score*100))\n",
    "\n",
    "# Confusion Matrix\n",
    "\n",
    "from sklearn.metrics import classification_report,confusion_matrix\n",
    "##\n",
    "y_pred = model.predict_classes(np.array(X_test))\n",
    "\n",
    "from sklearn import metrics\n",
    "\n",
    "print(metrics.accuracy_score(y_test, y_pred))\n",
    "\n",
    "\n",
    "target_names = ['pos', 'neg']\n",
    "cnf_matrix_test = confusion_matrix(y_test, y_pred)\n",
    "print(classification_report(y_test, y_pred, target_names=target_names))\n",
    "print(cnf_matrix_test)"
   ]
  },
  {
   "cell_type": "code",
   "execution_count": 4,
   "metadata": {},
   "outputs": [
    {
     "data": {
      "text/plain": [
       "<matplotlib.axes._subplots.AxesSubplot at 0x1ea87c8400>"
      ]
     },
     "execution_count": 4,
     "metadata": {},
     "output_type": "execute_result"
    },
    {
     "data": {
      "image/png": "[encoded data removed]",
      "text/plain": [
       "<matplotlib.figure.Figure at 0x1e9fb47b70>"
      ]
     },
     "metadata": {},
     "output_type": "display_data"
    }
   ],
   "source": [
    "df_cm = pd.DataFrame(cnf_matrix_test, range(2), range(2))\n",
    "sn.set(font_scale=1.4)\n",
    "sn.heatmap(df_cm, annot=True, fmt='d')"
   ]
  },
  {
   "cell_type": "code",
   "execution_count": 5,
   "metadata": {},
   "outputs": [
    {
     "name": "stdout",
     "output_type": "stream",
     "text": [
      "0.15332\n"
     ]
    }
   ],
   "source": [
    "TP = cnf_matrix_test[1, 1]\n",
    "TN = cnf_matrix_test[0, 0]\n",
    "FP = cnf_matrix_test[0, 1]\n",
    "FN = cnf_matrix_test[1, 0]\n",
    "\n",
    "classification_error = (FP + FN) / float(TP + TN + FP + FN)\n",
    "print(classification_error)"
   ]
  },
  {
   "cell_type": "code",
   "execution_count": null,
   "metadata": {
    "collapsed": true
   },
   "outputs": [],
   "source": []
  }
 ],
 "metadata": {
  "kernelspec": {
   "display_name": "Python 3",
   "language": "python",
   "name": "python3"
  },
  "language_info": {
   "codemirror_mode": {
    "name": "ipython",
    "version": 3
   },
   "file_extension": ".py",
   "mimetype": "text/x-python",
   "name": "python",
   "nbconvert_exporter": "python",
   "pygments_lexer": "ipython3",
   "version": "3.6.1"
  }
 },
 "nbformat": 4,
 "nbformat_minor": 2
}
